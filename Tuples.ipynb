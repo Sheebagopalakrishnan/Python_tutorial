{
 "cells": [
  {
   "cell_type": "code",
   "execution_count": 4,
   "metadata": {},
   "outputs": [
    {
     "name": "stdout",
     "output_type": "stream",
     "text": [
      "('a', 'b', 'c')\n",
      "(1, 2, 3, 4)\n",
      "('a', 'b', 'c')\n"
     ]
    }
   ],
   "source": [
    "tup1 = ('a','b','c')\n",
    "print(tup1)\n",
    "\n",
    "tup2 = 1,2,3,4\n",
    "print(tup2)\n",
    "\n",
    "tup3 = tuple('abc')\n",
    "print(tup3)"
   ]
  },
  {
   "cell_type": "code",
   "execution_count": 7,
   "metadata": {},
   "outputs": [
    {
     "name": "stdout",
     "output_type": "stream",
     "text": [
      "a\n",
      "c\n",
      "('b', 'c')\n"
     ]
    }
   ],
   "source": [
    "#Indexing & Slicing\n",
    "\n",
    "print(tup1[0])\n",
    "print(tup1[-1])\n",
    "print(tup1[1:3])"
   ]
  },
  {
   "cell_type": "code",
   "execution_count": 8,
   "metadata": {},
   "outputs": [],
   "source": [
    "#deleting particular elements in a tuple is not possible. But, the whole tuple can be deleted using the del keyword\n",
    "\n",
    "del(tup3)\n",
    "\n",
    "#impossible to change/modify a particular element but can take some portion of an existing tuple and create a new tuple using the concatenating operator,"
   ]
  },
  {
   "cell_type": "code",
   "execution_count": 9,
   "metadata": {},
   "outputs": [
    {
     "name": "stdout",
     "output_type": "stream",
     "text": [
      "(9, 5, 2, 7)\n",
      "9\n",
      "(5, 2, 7)\n"
     ]
    }
   ],
   "source": [
    "#tuples - diff data types enclosed in ( ) & immutable (can't be modified)\n",
    "\n",
    "tup = (9,5,2,7)     #used when you have data that is always constant like coordinates\n",
    "print(tup)\n",
    "print(tup[0])\n",
    "print(tup[1:])\n",
    "#tup[2] = 4         #throws error -'tuple' object does not support item assignment\n"
   ]
  },
  {
   "cell_type": "code",
   "execution_count": null,
   "metadata": {},
   "outputs": [],
   "source": []
  }
 ],
 "metadata": {
  "kernelspec": {
   "display_name": "Python 3",
   "language": "python",
   "name": "python3"
  },
  "language_info": {
   "codemirror_mode": {
    "name": "ipython",
    "version": 3
   },
   "file_extension": ".py",
   "mimetype": "text/x-python",
   "name": "python",
   "nbconvert_exporter": "python",
   "pygments_lexer": "ipython3",
   "version": "3.7.4"
  }
 },
 "nbformat": 4,
 "nbformat_minor": 2
}
