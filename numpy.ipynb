{
 "cells": [
  {
   "cell_type": "code",
   "execution_count": 7,
   "metadata": {},
   "outputs": [],
   "source": [
    "import numpy as np"
   ]
  },
  {
   "cell_type": "code",
   "execution_count": 14,
   "metadata": {},
   "outputs": [
    {
     "name": "stdout",
     "output_type": "stream",
     "text": [
      "[1, 2, 3, 4, 5]\n",
      "[1 2 3 4 5]\n",
      "[[1, 2, 3, 4], [5, 6, 7, 8]]\n",
      "[[1 2 3 4]\n",
      " [5 6 7 8]]\n"
     ]
    },
    {
     "data": {
      "text/plain": [
       "array([[0., 0., 0.],\n",
       "       [0., 0., 0.],\n",
       "       [0., 0., 0.]])"
      ]
     },
     "execution_count": 14,
     "metadata": {},
     "output_type": "execute_result"
    }
   ],
   "source": [
    "l = [1,2,3,4,5]                    #list\n",
    "print(l)\n",
    "a = np.array(l)                    #1D Array (list to array)\n",
    "print(a)\n",
    "l1 = [[1,2,3,4],[5,6,7,8]]         #list of lists\n",
    "print(l1)\n",
    "a1 = np.array(l1)                  #2D Array\n",
    "print(a1)\n",
    "np.zeros(5)                        #prints [0 0 0 0 0]\n",
    "np.ones(5)                         #prints [1 1 1 1 1]\n",
    "np.zeros((3,3))                    #prints 3*3 2D array of zeros"
   ]
  },
  {
   "cell_type": "code",
   "execution_count": 15,
   "metadata": {},
   "outputs": [
    {
     "name": "stdout",
     "output_type": "stream",
     "text": [
      "[range(0, 5) range(0, 4)]\n",
      "[0 1 2 3 4]\n"
     ]
    }
   ],
   "source": [
    "l1 = [range(5),range(4)]           #doesn't work donno why :(\n",
    "a2 = np.array(l1)\n",
    "print(a2)\n",
    "a3 = np.arange(5)                  #arange is same as range but retruns array of [0 1 2 3 4]\n",
    "print(a3)"
   ]
  },
  {
   "cell_type": "code",
   "execution_count": 32,
   "metadata": {},
   "outputs": [
    {
     "name": "stdout",
     "output_type": "stream",
     "text": [
      "[0 1 2 3 4]\n",
      "[0. 1. 2. 3. 4.]\n",
      "int64\n",
      "float64\n",
      "1\n",
      "5\n",
      "(5,)\n",
      "5\n"
     ]
    }
   ],
   "source": [
    "#Data type conversion\n",
    "\n",
    "print(a3)\n",
    "a4 = a3.astype(float)              #converts data type\n",
    "print(a4)\n",
    "\n",
    "print(a3.dtype)                          \n",
    "print(a4.dtype)\n",
    "print(a4.ndim)\n",
    "print(a4.size)                     # Total number of elements\n",
    "print(a4.shape)                    #axis 0 is rows, axis 1 is columns\n",
    "print(len(a4))                     #returns size of first dim (rows)"
   ]
  },
  {
   "cell_type": "code",
   "execution_count": 60,
   "metadata": {},
   "outputs": [
    {
     "name": "stdout",
     "output_type": "stream",
     "text": [
      "[0 1 2 3 4 5 6 7]\n",
      "1\n",
      "[[0 1 2 3]\n",
      " [4 5 6 7]]\n",
      "2\n",
      "[[[0 1]\n",
      "  [2 3]]\n",
      "\n",
      " [[4 5]\n",
      "  [6 7]]]\n",
      "3\n",
      "[[0 4]\n",
      " [1 5]\n",
      " [2 6]\n",
      " [3 7]]\n",
      "(2, 4)\n",
      "(4, 2)\n",
      "[0 1 2 3 4 5 6 7]\n",
      "3\n",
      "1\n"
     ]
    }
   ],
   "source": [
    "#Reshaping\n",
    "\n",
    "a5 = np.arange(8)\n",
    "print(a5)\n",
    "print(a5.ndim)\n",
    "\n",
    "a6 = a5.reshape(2,4)\n",
    "print(a6)\n",
    "print(a6.ndim)\n",
    "\n",
    "a7 = a5.reshape(2,2,2)\n",
    "print(a7)\n",
    "print(a7.ndim)\n",
    "\n",
    "#transpose\n",
    "a8 = a6.T\n",
    "print(a8)\n",
    "print(a6.shape)                   #shape = (2,4)\n",
    "print(a8.shape)                   #after Transpose, shape = (4,2)\n",
    "\n",
    "#flatten array - converts into 1D Array\n",
    "a9 = a7.flatten()\n",
    "print(a9)\n",
    "print(a7.ndim)\n",
    "print(a9.ndim)"
   ]
  },
  {
   "cell_type": "code",
   "execution_count": 10,
   "metadata": {},
   "outputs": [
    {
     "name": "stdout",
     "output_type": "stream",
     "text": [
      "[[0. 1. 2. 3. 4.]\n",
      " [5. 6. 7. 8. 9.]]\n",
      "[0. 1. 2. 3. 4.]\n",
      "0.0 0.0\n",
      "[5. 6. 7. 8. 9.]\n",
      "[[0. 1. 2. 3. 4.]\n",
      " [5. 6. 7. 8. 9.]]\n",
      "9.0\n",
      "[[5. 6. 7. 8. 9.]]\n",
      "[6. 7. 8. 9.]\n",
      "[3. 8.]\n",
      "[5. 6. 7. 8. 9.]\n",
      "[[5. 6. 7. 8. 9.]\n",
      " [0. 1. 2. 3. 4.]]\n",
      "[[100.   1.   2.   3.   4.]\n",
      " [  5.   6.   7.   8.   9.]]\n",
      "[100.   6.   7.   8.   9.]\n",
      "[  1.   2.   3.   4.   5.   6.   7.   8.   9. 100.]\n"
     ]
    }
   ],
   "source": [
    "#Indexing and Slicing (same as lists)   #start:stop:step - Slicing syntax\n",
    "\n",
    "b = np.arange(10, dtype = float).reshape(2,5)\n",
    "print(b)\n",
    "print(b[0])                     #returns first row\n",
    "print(b[0,0], b[0][0])          #both returns first element 0.0\n",
    "print(b[-1])                    #returns last row\n",
    "\n",
    "#Slicing\n",
    "\n",
    "print(b[:,:])                   #returns all rows and columns\n",
    "print(b[-1,-1])                 #returns the last element of last row\n",
    "\n",
    "print(b[1:])                    #returns row index = 1 (Second row) till end\n",
    "print(b[1,1:])                  #points to row index = 1 and starts from column index = 1 till end\n",
    "print(b[:,3])                   #returns third column on both rows\n",
    "print(b[-1])                    #returns last row\n",
    "\n",
    "print(b[::-1])                  #reverses the array\n",
    "\n",
    "#updatable\n",
    "b[0,0] = 100\n",
    "print(b)\n",
    "\n",
    "#b[0,5]=100 immutable\n",
    "\n",
    "#Boolean array indexing\n",
    "b1 = b[b>5]\n",
    "print(b1)\n",
    "\n",
    "print(np.unique(b))           #prints unique value"
   ]
  },
  {
   "cell_type": "code",
   "execution_count": 21,
   "metadata": {},
   "outputs": [
    {
     "name": "stdout",
     "output_type": "stream",
     "text": [
      "[0 1 2 3 4]\n",
      "[0.         1.         1.41421356 1.73205081 2.        ]\n",
      "[0. 1. 2. 3. 4.]\n",
      "[False False False False False]\n",
      "10\n",
      "[105.   7.   9.  11.  13.]\n",
      "[0.48959719 0.75360015 0.13025934 0.90463061 0.02186233]\n",
      "[[0.2252401  0.97573386]\n",
      " [0.73559719 0.36563463]]\n"
     ]
    }
   ],
   "source": [
    "#array functions\n",
    "\n",
    "c = np.arange(5)\n",
    "print(c)\n",
    "\n",
    "print(np.sqrt(c))\n",
    "print(np.ceil(c))\n",
    "print(np.isnan(c))\n",
    "\n",
    "print(c.sum())\n",
    "print(b.sum(axis=0))\n",
    "\n",
    "print(np.random.rand(5))\n",
    "print(np.random.rand(2,2))           #creates 2*2 array"
   ]
  },
  {
   "cell_type": "code",
   "execution_count": 22,
   "metadata": {},
   "outputs": [
    {
     "name": "stdout",
     "output_type": "stream",
     "text": [
      "[[ 0  1  2]\n",
      " [10 11 12]\n",
      " [20 21 22]\n",
      " [30 31 32]]\n"
     ]
    }
   ],
   "source": [
    "c1 = np.array([[ 0,  0,  0],\n",
    "              [10, 10, 10],\n",
    "              [20, 20, 20],\n",
    "              [30, 30, 30]])\n",
    "c2 = np.array([0, 1, 2])\n",
    "\n",
    "print(c1 + c2)           #The smaller array is stretched or “broadcasted” across the larger array so that they have compatible shapes.\n"
   ]
  },
  {
   "cell_type": "code",
   "execution_count": 26,
   "metadata": {},
   "outputs": [
    {
     "name": "stdout",
     "output_type": "stream",
     "text": [
      "[[ 1.26015355 -1.11387831]\n",
      " [-0.20498232 -1.76083695]\n",
      " [ 1.55775744 -0.89509604]\n",
      " [ 0.32445551  1.03972128]]\n",
      "[ 1.26015355 -1.11387831]\n",
      "[-0.20498232 -1.76083695]\n",
      "[ 1.55775744 -0.89509604]\n",
      "[0.32445551 1.03972128]\n"
     ]
    }
   ],
   "source": [
    "x = np.random.randn(4, 2)\n",
    "print(x)\n",
    "\n",
    "for i in x:\n",
    "    for j in i:\n",
    "        if \n",
    "        temp = "
   ]
  },
  {
   "cell_type": "code",
   "execution_count": null,
   "metadata": {},
   "outputs": [],
   "source": []
  },
  {
   "cell_type": "code",
   "execution_count": null,
   "metadata": {},
   "outputs": [],
   "source": []
  }
 ],
 "metadata": {
  "kernelspec": {
   "display_name": "Python 3",
   "language": "python",
   "name": "python3"
  },
  "language_info": {
   "codemirror_mode": {
    "name": "ipython",
    "version": 3
   },
   "file_extension": ".py",
   "mimetype": "text/x-python",
   "name": "python",
   "nbconvert_exporter": "python",
   "pygments_lexer": "ipython3",
   "version": "3.7.4"
  }
 },
 "nbformat": 4,
 "nbformat_minor": 2
}
