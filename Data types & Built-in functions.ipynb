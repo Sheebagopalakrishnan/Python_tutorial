{
 "cells": [
  {
   "cell_type": "code",
   "execution_count": 18,
   "metadata": {},
   "outputs": [
    {
     "name": "stdout",
     "output_type": "stream",
     "text": [
      "Hello Hello 100 100 True\n"
     ]
    }
   ],
   "source": [
    "print(\"Hello\",'Hello',100, 10*2*5 , True)"
   ]
  },
  {
   "cell_type": "code",
   "execution_count": 15,
   "metadata": {},
   "outputs": [
    {
     "name": "stdout",
     "output_type": "stream",
     "text": [
      "Name is Sheeba Age is 26 and is True\n"
     ]
    }
   ],
   "source": [
    "#variables\n",
    "\n",
    "var_name = \"Sheeba\"\n",
    "\n",
    "var_age, is_female = 26, True   #Boolean variable\n",
    "\n",
    "print(\"Name is \" + var_name + \" Age is \" + str(var_age) + \" and is \" + str(is_female))  #concat for string\n"
   ]
  },
  {
   "cell_type": "code",
   "execution_count": 4,
   "metadata": {},
   "outputs": [
    {
     "name": "stdout",
     "output_type": "stream",
     "text": [
      "10 5\n",
      "5 10\n"
     ]
    }
   ],
   "source": [
    "#swapping\n",
    "\n",
    "a = 10\n",
    "b = 5\n",
    "print (a,b)\n",
    "a,b = b,a            #can also use temp variable to swap\n",
    "print (a,b)"
   ]
  },
  {
   "cell_type": "code",
   "execution_count": 13,
   "metadata": {},
   "outputs": [
    {
     "name": "stdout",
     "output_type": "stream",
     "text": [
      "sheeba is here\n"
     ]
    },
    {
     "ename": "NameError",
     "evalue": "name 'str1' is not defined",
     "output_type": "error",
     "traceback": [
      "\u001b[0;31m---------------------------------------------------------------------------\u001b[0m",
      "\u001b[0;31mNameError\u001b[0m                                 Traceback (most recent call last)",
      "\u001b[0;32m<ipython-input-13-027c7314cc8c>\u001b[0m in \u001b[0;36m<module>\u001b[0;34m\u001b[0m\n\u001b[1;32m      8\u001b[0m \u001b[0;34m\u001b[0m\u001b[0m\n\u001b[1;32m      9\u001b[0m \u001b[0;32mdel\u001b[0m \u001b[0mstr1\u001b[0m         \u001b[0;31m# The whole string is deleted using a built-in ‘del’ keyword.\u001b[0m\u001b[0;34m\u001b[0m\u001b[0;34m\u001b[0m\u001b[0m\n\u001b[0;32m---> 10\u001b[0;31m \u001b[0mprint\u001b[0m\u001b[0;34m(\u001b[0m\u001b[0mstr1\u001b[0m\u001b[0;34m)\u001b[0m\u001b[0;34m\u001b[0m\u001b[0;34m\u001b[0m\u001b[0m\n\u001b[0m",
      "\u001b[0;31mNameError\u001b[0m: name 'str1' is not defined"
     ]
    }
   ],
   "source": [
    "#Strings - strings in Python are immutable and thus updating or deleting an individual character in a string is not allowed\n",
    "\n",
    "str1 = \"sheeba is here\"\n",
    "str1[1] = \"Vig\"  #immutable, throws error\n",
    "del str1         # The whole string is deleted using a built-in ‘del’ keyword.\n",
    "print(str1)"
   ]
  },
  {
   "cell_type": "code",
   "execution_count": 16,
   "metadata": {},
   "outputs": [
    {
     "name": "stdout",
     "output_type": "stream",
     "text": [
      "SHEEBA False 6\n",
      "5.0990195135927845 26 676.0\n"
     ]
    }
   ],
   "source": [
    "#string functions\n",
    "\n",
    "print(var_name.upper(), var_name.isupper(),len(var_name))\n",
    "\n",
    "from math import *\n",
    "\n",
    "print(sqrt(var_age), abs(var_age), pow(var_age, 2))"
   ]
  },
  {
   "cell_type": "code",
   "execution_count": 17,
   "metadata": {},
   "outputs": [
    {
     "name": "stdout",
     "output_type": "stream",
     "text": [
      "I am sheeba\n",
      "Input is ['a', 'b', 'c']\n"
     ]
    }
   ],
   "source": [
    "#string functions \n",
    "\n",
    "s = \"I am sheeba\"\n",
    "\n",
    "s.find('am')          #returns index of first occurance\n",
    "s.replace('am',\"'m\")\n",
    "\n",
    "s.split()             #converts string to list\n",
    "print(s)\n",
    "\n",
    "s1 = ['a','b','c']   \n",
    "''.join(s1)           #converts list to string\n",
    "\n",
    "print(\"Input is %s\" %s1)"
   ]
  },
  {
   "cell_type": "code",
   "execution_count": 14,
   "metadata": {},
   "outputs": [
    {
     "name": "stdout",
     "output_type": "stream",
     "text": [
      "Enter name : s\n",
      "Enter your age : s\n",
      "Enter Num1 :s\n",
      "Enter Num2 :s\n",
      "Hi, s you're s\n"
     ]
    },
    {
     "ename": "ValueError",
     "evalue": "invalid literal for int() with base 10: 's'",
     "output_type": "error",
     "traceback": [
      "\u001b[0;31m---------------------------------------------------------------------------\u001b[0m",
      "\u001b[0;31mValueError\u001b[0m                                Traceback (most recent call last)",
      "\u001b[0;32m<ipython-input-14-b5f9cbb6d44a>\u001b[0m in \u001b[0;36m<module>\u001b[0;34m\u001b[0m\n\u001b[1;32m      6\u001b[0m \u001b[0mNum2\u001b[0m \u001b[0;34m=\u001b[0m \u001b[0minput\u001b[0m\u001b[0;34m(\u001b[0m\u001b[0;34m\"Enter Num2 :\"\u001b[0m\u001b[0;34m)\u001b[0m\u001b[0;34m\u001b[0m\u001b[0;34m\u001b[0m\u001b[0m\n\u001b[1;32m      7\u001b[0m \u001b[0mprint\u001b[0m\u001b[0;34m(\u001b[0m\u001b[0;34m\"Hi, \"\u001b[0m \u001b[0;34m+\u001b[0m \u001b[0mName\u001b[0m \u001b[0;34m+\u001b[0m \u001b[0;34m\" you're \"\u001b[0m\u001b[0;34m+\u001b[0m \u001b[0mAge\u001b[0m\u001b[0;34m)\u001b[0m  \u001b[0;31m#concat string\u001b[0m\u001b[0;34m\u001b[0m\u001b[0;34m\u001b[0m\u001b[0m\n\u001b[0;32m----> 8\u001b[0;31m \u001b[0mprint\u001b[0m\u001b[0;34m(\u001b[0m\u001b[0mint\u001b[0m\u001b[0;34m(\u001b[0m\u001b[0mNum1\u001b[0m\u001b[0;34m)\u001b[0m\u001b[0;34m+\u001b[0m\u001b[0mint\u001b[0m\u001b[0;34m(\u001b[0m\u001b[0mNum2\u001b[0m\u001b[0;34m)\u001b[0m\u001b[0;34m)\u001b[0m  \u001b[0;31m#Mathematical sum function\u001b[0m\u001b[0;34m\u001b[0m\u001b[0;34m\u001b[0m\u001b[0m\n\u001b[0m",
      "\u001b[0;31mValueError\u001b[0m: invalid literal for int() with base 10: 's'"
     ]
    }
   ],
   "source": [
    "#input from user - defaulty stored as string\n",
    "\n",
    "Name = input(\"Enter name : \")\n",
    "Age = input(\"Enter your age : \")\n",
    "Num1 = input(\"Enter Num1 :\")\n",
    "Num2 = input(\"Enter Num2 :\")\n",
    "print(\"Hi, \" + Name + \" you're \"+ Age)  #concat string\n",
    "print(int(Num1)+int(Num2))  #Mathematical sum function"
   ]
  },
  {
   "cell_type": "code",
   "execution_count": 41,
   "metadata": {},
   "outputs": [
    {
     "name": "stdout",
     "output_type": "stream",
     "text": [
      "I d\n"
     ]
    }
   ],
   "source": [
    "#indexing (doesn't work for numbers) - starts with 0 and starts with -1 for reverse\n",
    "\n",
    "text = \"I'm bored\"\n",
    "\n",
    "print(text[0], text[-1])"
   ]
  },
  {
   "cell_type": "code",
   "execution_count": 11,
   "metadata": {},
   "outputs": [
    {
     "name": "stdout",
     "output_type": "stream",
     "text": [
      "{'apple': 5, 'banana': 6, 'cherry': 6}\n"
     ]
    }
   ],
   "source": [
    "#Dict comprehension\n",
    "\n",
    "fruits = ['apple', 'banana', 'cherry']\n",
    "\n",
    "fruit_len = {fruit:len(fruit) for fruit in fruits}\n",
    "\n",
    "print(fruit_len)"
   ]
  },
  {
   "cell_type": "code",
   "execution_count": null,
   "metadata": {},
   "outputs": [],
   "source": []
  }
 ],
 "metadata": {
  "kernelspec": {
   "display_name": "Python 3",
   "language": "python",
   "name": "python3"
  },
  "language_info": {
   "codemirror_mode": {
    "name": "ipython",
    "version": 3
   },
   "file_extension": ".py",
   "mimetype": "text/x-python",
   "name": "python",
   "nbconvert_exporter": "python",
   "pygments_lexer": "ipython3",
   "version": "3.7.4"
  }
 },
 "nbformat": 4,
 "nbformat_minor": 2
}
