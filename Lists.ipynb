{
 "cells": [
  {
   "cell_type": "code",
   "execution_count": 17,
   "metadata": {},
   "outputs": [
    {
     "name": "stdout",
     "output_type": "stream",
     "text": [
      "[0, 0, 0]\n",
      "[[0, 0, 0], [0, 0, 0], [0, 0, 0]]\n",
      "[[[0, 0, 0], [0, 0, 0], [0, 0, 0]], [[0, 0, 0], [0, 0, 0], [0, 0, 0]], [[0, 0, 0], [0, 0, 0], [0, 0, 0]]]\n",
      "[0, 1, 2, 3, 4, 5, 6, 7, 8, 9]\n"
     ]
    }
   ],
   "source": [
    "l = []                          #empty list\n",
    "\n",
    "l1 = [0] * 3                    #1D list\n",
    "print(l1)\n",
    "l2 = [[0]*3] * 3                #2D list\n",
    "print(l2)\n",
    "l3 = [[[0]*3] * 3] * 3          #3D list\n",
    "print(l3)\n",
    " \n",
    "l4 = list(range(10))\n",
    "print(l4)"
   ]
  },
  {
   "cell_type": "code",
   "execution_count": 41,
   "metadata": {},
   "outputs": [
    {
     "name": "stdout",
     "output_type": "stream",
     "text": [
      "['black', 'gopal', 'muki', 'vig', 10]\n",
      "black \n",
      " 10\n",
      "['muki', 'vig', 10]\n",
      "['mummy', 'gopal', 'muki', 'vig', 10]\n"
     ]
    }
   ],
   "source": [
    "#lists - diff data types enclosed in [ ] & mutable (can be modified)\n",
    "\n",
    "ran = [\"black\",\"gopal\",\"muki\",\"vig\", 10]\n",
    "print(ran)\n",
    "print(ran[0],\"\\n\",ran[-1])\n",
    "print(ran[2:])\n",
    "ran[0]= \"mummy\"  #It is possible to modify data in list - mutable\n",
    "print(ran)"
   ]
  },
  {
   "cell_type": "code",
   "execution_count": 12,
   "metadata": {},
   "outputs": [
    {
     "name": "stdout",
     "output_type": "stream",
     "text": [
      "[2, 4, 6, 8]\n",
      "[2, 4, 6, 8]\n",
      "sv\n",
      "si\n",
      "sg\n",
      "hv\n",
      "hi\n",
      "hg\n",
      "ev\n",
      "ei\n",
      "eg\n",
      "['sv', 'si', 'sg', 'hv', 'hi', 'hg', 'ev', 'ei', 'eg']\n"
     ]
    }
   ],
   "source": [
    "#list comprehension\n",
    "l4 = [1,2,3,4,5,6,7,8]\n",
    "\n",
    "l5 = []\n",
    "for i in l4:         #print even no\n",
    "    if i % 2 == 0:\n",
    "        l5.append(i)\n",
    "print(l5)\n",
    "        \n",
    "print([i for i in l4 if i % 2 == 0])      #easily done using list comp\n",
    "\n",
    "for a in 'she':\n",
    "    for b in 'vig':\n",
    "        print(a+b)\n",
    "        \n",
    "print([a+b for a in 'she' for b in 'vig'])"
   ]
  },
  {
   "cell_type": "code",
   "execution_count": 48,
   "metadata": {},
   "outputs": [
    {
     "name": "stdout",
     "output_type": "stream",
     "text": [
      "[1, 2, 3, 4]\n",
      "[1, 2, 3, 4]\n"
     ]
    }
   ],
   "source": [
    "#list comprehension cntd..\n",
    "#flatten 2D list\n",
    "\n",
    "matrix = [[1, 2], [3, 4]] \n",
    "items = []\n",
    "for row in matrix:\n",
    "    for col in row: \n",
    "        items.append(col)\n",
    "\n",
    "print(items)\n",
    "\n",
    "items1 = [col for row in matrix for col in row]\n",
    "\n",
    "print(items1)"
   ]
  },
  {
   "cell_type": "code",
   "execution_count": 38,
   "metadata": {},
   "outputs": [
    {
     "name": "stdout",
     "output_type": "stream",
     "text": [
      "[5, 6, 4, 3, 2, 1]\n",
      "[5, 6, 4, 3, 1, 2]\n",
      "[2, 1, 3, 4, 6, 5]\n",
      "<list_reverseiterator object at 0x11373a650>\n",
      "[5, 6, 4, 3, 2, 1]\n",
      "[1, 2, 3, 4, 6, 5]\n",
      "[6, 5, 4, 3, 2, 1]\n"
     ]
    }
   ],
   "source": [
    "#reverse list\n",
    "\n",
    "l6 = [1,2,3,4,6,5]\n",
    "\n",
    "print(l6[::-1])                       #method 1 , doesn't modify original\n",
    "\n",
    "l7 = []\n",
    "for i in l6:                          #method 2\n",
    "    l7.append(l6[-i])\n",
    "print(l7)\n",
    "\n",
    "l7.reverse()                          #method 3 , modifies original\n",
    "print(l7)\n",
    "    \n",
    "print(reversed(l6))\n",
    "print(list(reversed(l6)))             #method 4, doesn't modify original\n",
    "print(l6)\n",
    "\n",
    "print(sorted(l6,reverse = True))      #returns sorted&reversed list but doesn't modify original"
   ]
  },
  {
   "cell_type": "code",
   "execution_count": 40,
   "metadata": {},
   "outputs": [
    {
     "name": "stdout",
     "output_type": "stream",
     "text": [
      "[6, 12, 23, 32, 87]\n",
      "[87, 32, 23, 12, 6]\n"
     ]
    }
   ],
   "source": [
    "#sort list\n",
    "\n",
    "l8 = [32, 12, 87, 23, 6]\n",
    "\n",
    "l8.sort()                             # ASC order\n",
    "print(l8)                             #sorts and modifies original \n",
    "\n",
    "l8.sort(reverse = True)               #DESC order\n",
    "print(l8)"
   ]
  },
  {
   "cell_type": "code",
   "execution_count": 47,
   "metadata": {},
   "outputs": [
    {
     "name": "stdout",
     "output_type": "stream",
     "text": [
      "['d', 'e', 'a', 'c', 'b', 5, 1, 4, 2, 4]\n",
      "['d', 'e', 'a', 'c', 'b', 5, 1, 4, 2, 4, 6]\n",
      "['d', 'e', 'a', 'c', 'b', 'f', 5, 1, 4, 2, 4, 6]\n",
      "['d', 'e', 'c', 'b', 'f', 5, 1, 4, 2, 4, 6]\n",
      "['d', 'e', 'c', 'b', 'f', 5, 1, 4, 2, 4]\n",
      "['d', 'e', 'c', 'b', 'f', 5, 1, 4, 2, 4]\n",
      "6\n",
      "2\n"
     ]
    }
   ],
   "source": [
    "#list functions\n",
    "\n",
    "no = [5,1,4,2,4]\n",
    "name = [\"d\",\"e\",\"a\",\"c\",\"b\"]\n",
    "\n",
    "name.extend(no)       #add two lists or multiple items to list\n",
    "print(name)\n",
    "\n",
    "name.append(6)        #adds an item to end of list\n",
    "print(name)\n",
    "\n",
    "name.insert(5,\"f\")    #adds an item at the specific position\n",
    "print(name)\n",
    "\n",
    "name.remove(\"a\")      #deletes an item\n",
    "print(name)\n",
    "\n",
    "name.pop()            #removes an item at the end of the list(-1 position)\n",
    "print(name)\n",
    "\n",
    "#name.clear()          #clears the entire list\n",
    "print(name)\n",
    "\n",
    "print(name.index(1))   #returns index value of an item\n",
    "#print(name.index(a))  #throws error if the item is not present in list\n",
    "\n",
    "print(no.count(4))     #retruns how many times the item is present in list"
   ]
  },
  {
   "cell_type": "code",
   "execution_count": 46,
   "metadata": {},
   "outputs": [
    {
     "name": "stdout",
     "output_type": "stream",
     "text": [
      "[5, 4, 4, 2, 1]\n",
      "[5, 4, 4, 2, 1]\n",
      "[5, 4, 4, 2, 1]\n"
     ]
    }
   ],
   "source": [
    "#copy list\n",
    "\n",
    "no1 = no.copy()        #copies one list to another\n",
    "print(no1)\n",
    "\n",
    "no2 = no1              #same as copy, can be achieved using '='\n",
    "no2 = no1[:]\n",
    "print(no2)\n",
    "\n",
    "no3 = list(no2)\n",
    "print(no3)"
   ]
  },
  {
   "cell_type": "code",
   "execution_count": 49,
   "metadata": {},
   "outputs": [
    {
     "name": "stdout",
     "output_type": "stream",
     "text": [
      "[[1, 2, 3], [4, 5, 6], [7, 8, 9], [0]]\n",
      "[4, 5, 6]\n",
      "4\n"
     ]
    }
   ],
   "source": [
    "#Nested lists\n",
    "\n",
    "grid = [\n",
    "    [1,2,3],\n",
    "    [4,5,6],\n",
    "    [7,8,9],\n",
    "    [0]\n",
    "]\n",
    "\n",
    "print (grid)\n",
    "print(grid[1])\n",
    "print(grid[1][0])"
   ]
  },
  {
   "cell_type": "code",
   "execution_count": 50,
   "metadata": {},
   "outputs": [
    {
     "name": "stdout",
     "output_type": "stream",
     "text": [
      "['a', 'b', 'c']\n"
     ]
    }
   ],
   "source": [
    "#conversions\n",
    "\n",
    "test = list('abc')          #string to list\n",
    "print(test)"
   ]
  },
  {
   "cell_type": "code",
   "execution_count": null,
   "metadata": {},
   "outputs": [],
   "source": []
  }
 ],
 "metadata": {
  "kernelspec": {
   "display_name": "Python 3",
   "language": "python",
   "name": "python3"
  },
  "language_info": {
   "codemirror_mode": {
    "name": "ipython",
    "version": 3
   },
   "file_extension": ".py",
   "mimetype": "text/x-python",
   "name": "python",
   "nbconvert_exporter": "python",
   "pygments_lexer": "ipython3",
   "version": "3.7.4"
  }
 },
 "nbformat": 4,
 "nbformat_minor": 2
}
