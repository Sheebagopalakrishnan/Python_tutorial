{
 "cells": [
  {
   "cell_type": "code",
   "execution_count": 8,
   "metadata": {},
   "outputs": [
    {
     "name": "stdout",
     "output_type": "stream",
     "text": [
      "{1: 'a', 2: 'b', 3: 'c'}\n",
      "{'vig': 1, 'she': 2, 'baby': 3}\n"
     ]
    }
   ],
   "source": [
    "d = {}\n",
    "\n",
    "d1 = dict([(1,'a'),(2,'b'),(3,'c')])      #list_of_tuples to dict\n",
    "print(d1)\n",
    "\n",
    "d2= dict([['vig',1],['she',2],['baby',3]]) #\n",
    "print(d2)"
   ]
  },
  {
   "cell_type": "code",
   "execution_count": 9,
   "metadata": {},
   "outputs": [
    {
     "name": "stdout",
     "output_type": "stream",
     "text": [
      "{'a': 1, 'b': 2, 'c': 3, 'd': 4, 'e': 5}\n",
      "1\n",
      "3\n",
      "Not found\n"
     ]
    }
   ],
   "source": [
    "#dictionary - data stored in key:value pairs enclosed in { } \n",
    "\n",
    "dict = {\"a\":1, \"b\":2, \"c\":3, \"d\":4, \"e\":5}\n",
    "\n",
    "print(dict)\n",
    "print(dict[\"a\"])\n",
    "\n",
    "#print(dict[1:])                      #slice doesn't work for dict\n",
    "\n",
    "print(dict.get(\"c\"))                  #retruns the corresponding value for key\n",
    "print(dict.get(\"f\", \"Not found\"))     #returns default values, if not found"
   ]
  },
  {
   "cell_type": "code",
   "execution_count": 14,
   "metadata": {},
   "outputs": [
    {
     "name": "stdout",
     "output_type": "stream",
     "text": [
      "dict_keys(['dad', 'mom', 'size'])\n",
      "dict_values(['homer', 'marge', 6])\n",
      "dict_items([('dad', 'homer'), ('mom', 'marge'), ('size', 6)])\n",
      "dad homer\n",
      "mom marge\n",
      "size 6\n",
      "homer\n",
      "marge\n",
      "6\n",
      "0 dad\n",
      "1 mom\n",
      "2 size\n"
     ]
    }
   ],
   "source": [
    "family = {'dad':'homer', 'mom':'marge', 'size':6} \n",
    "\n",
    "print(family.keys())\n",
    "\n",
    "print(family.values())\n",
    "\n",
    "print(family.items())\n",
    "\n",
    "for key, value in family.items():             #gives the keys, values from dict\n",
    "    print(key, value)\n",
    "    \n",
    "for key in family:                            #prints all the values\n",
    "    print(family[key])\n",
    "    \n",
    "for index, fruit in enumerate(family): \n",
    "    print(index, fruit)"
   ]
  },
  {
   "cell_type": "code",
   "execution_count": 32,
   "metadata": {},
   "outputs": [
    {
     "ename": "SyntaxError",
     "evalue": "invalid syntax (<ipython-input-32-66dc82717d6e>, line 23)",
     "output_type": "error",
     "traceback": [
      "\u001b[0;36m  File \u001b[0;32m\"<ipython-input-32-66dc82717d6e>\"\u001b[0;36m, line \u001b[0;32m23\u001b[0m\n\u001b[0;31m    dict.del()              #deletes the dict\u001b[0m\n\u001b[0m           ^\u001b[0m\n\u001b[0;31mSyntaxError\u001b[0m\u001b[0;31m:\u001b[0m invalid syntax\n"
     ]
    }
   ],
   "source": [
    "#dict is mutable\n",
    "\n",
    "dict = {\"a\":1, \"b\":2, \"c\":3, \"d\":4, \"e\":5}\n",
    "\n",
    "dict['a'] = 10          #mutable, can update/change value\n",
    "print(dict)    \n",
    "\n",
    "dict['f'] = 6           #add new key:value pair\n",
    "print(dict)\n",
    "\n",
    "dict.pop('f')           #pop(key) - removes the key:value pair\n",
    "print(dict)\n",
    "\n",
    "dict.popitem()          #removes the last item\n",
    "print(dict)\n",
    "\n",
    "del dict['a']           #delete an item\n",
    "print(dict)\n",
    "\n",
    "dict.clear()            #empties the dict\n",
    "print(dict)\n",
    "\n",
    "dict.del()              #deletes the dict\n",
    "print(dict)"
   ]
  },
  {
   "cell_type": "code",
   "execution_count": 33,
   "metadata": {},
   "outputs": [
    {
     "name": "stdout",
     "output_type": "stream",
     "text": [
      "5\n"
     ]
    }
   ],
   "source": [
    "i = 5\n",
    "def f(arg=i):\n",
    "    print(arg)\n",
    "i = 6\n",
    "f()"
   ]
  },
  {
   "cell_type": "code",
   "execution_count": null,
   "metadata": {},
   "outputs": [],
   "source": []
  }
 ],
 "metadata": {
  "kernelspec": {
   "display_name": "Python 3",
   "language": "python",
   "name": "python3"
  },
  "language_info": {
   "codemirror_mode": {
    "name": "ipython",
    "version": 3
   },
   "file_extension": ".py",
   "mimetype": "text/x-python",
   "name": "python",
   "nbconvert_exporter": "python",
   "pygments_lexer": "ipython3",
   "version": "3.7.4"
  }
 },
 "nbformat": 4,
 "nbformat_minor": 2
}
