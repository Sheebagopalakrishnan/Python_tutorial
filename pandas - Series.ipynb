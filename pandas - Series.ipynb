{
 "cells": [
  {
   "cell_type": "code",
   "execution_count": 2,
   "metadata": {},
   "outputs": [],
   "source": [
    "import pandas as pd\n",
    "import numpy as np"
   ]
  },
  {
   "cell_type": "code",
   "execution_count": 16,
   "metadata": {},
   "outputs": [
    {
     "name": "stdout",
     "output_type": "stream",
     "text": [
      "0    0.250994\n",
      "1   -1.855653\n",
      "2   -0.572293\n",
      "3   -0.440350\n",
      "4    0.489679\n",
      "dtype: float64\n",
      "a   -0.453114\n",
      "b   -2.550910\n",
      "c    0.312980\n",
      "d    0.068304\n",
      "e   -0.217892\n",
      "dtype: float64\n",
      "Index(['a', 'b', 'c', 'd', 'e'], dtype='object')\n",
      "a    10\n",
      "b    20\n",
      "c    30\n",
      "dtype: int64\n",
      "a    5\n",
      "b    5\n",
      "c    5\n",
      "dtype: int64\n"
     ]
    },
    {
     "data": {
      "text/plain": [
       "dtype('int64')"
      ]
     },
     "execution_count": 16,
     "metadata": {},
     "output_type": "execute_result"
    }
   ],
   "source": [
    "#Series\n",
    "\n",
    "# 1. Using nD Array\n",
    "s = pd.Series(np.random.randn(5))                                    #uses default index - 0,1,2,3,..\n",
    "s1 = pd.Series(np.random.randn(5), index = ['a','b','c','d','e'])    #If data is an ndarray, index must be same length as data\n",
    "                                            \n",
    "print(s)\n",
    "print(s1)\n",
    "print(s1.index)\n",
    "\n",
    "# 2. Using dict\n",
    "d = {'a':10,'b':20,'c':30}\n",
    "s2 = pd.Series(d)                         #Should use uppercase S\n",
    "print(s2)\n",
    "\n",
    "# 3. Using scalar value\n",
    "s3 = pd.Series(5, index =['a','b','c'])   #value will be repeated to match the length of index.\n",
    "print(s3)\n",
    "print(s3.dtype)\n",
    "\n",
    "#A key difference between Series and ndarray is that operations between Series automatically align the data based on label.\n",
    "\n"
   ]
  },
  {
   "cell_type": "code",
   "execution_count": 34,
   "metadata": {},
   "outputs": [
    {
     "name": "stdout",
     "output_type": "stream",
     "text": [
      "0    0.250994\n",
      "1   -1.855653\n",
      "2   -0.572293\n",
      "3   -0.440350\n",
      "4    0.489679\n",
      "dtype: float64\n",
      "0    0.250994\n",
      "1   -1.855653\n",
      "2   -0.572293\n",
      "3   -0.440350\n",
      "dtype: float64\n",
      "0.25099442562254765\n",
      "4    0.489679\n",
      "dtype: float64\n",
      "4    0.489679\n",
      "3   -0.440350\n",
      "1   -1.855653\n",
      "dtype: float64\n",
      "a   -0.453114\n",
      "b   -2.550910\n",
      "c    0.312980\n",
      "d    0.068304\n",
      "e   -0.217892\n",
      "dtype: float64\n",
      "-2.5509096603059835\n",
      "True\n",
      "nan\n"
     ]
    }
   ],
   "source": [
    "#Series functions\n",
    "\n",
    "print(s)\n",
    "print(s[:-1])                 #Excludes last element\n",
    "print(s[0])\n",
    "print(s[s>0.3])\n",
    "print(s[[4,3,1]])             #Slicing based on index\n",
    "\n",
    "print(s1)\n",
    "print(s1['b'])\n",
    "print('e' in s1)\n",
    "#print(s1['f'])               #Gives \"KeyError: 'f'\"\n",
    "print(s1.get('f',np.nan))     #get method, a missing label will return None or specified default"
   ]
  },
  {
   "cell_type": "code",
   "execution_count": 32,
   "metadata": {},
   "outputs": [
    {
     "name": "stdout",
     "output_type": "stream",
     "text": [
      "0    0.501989\n",
      "1   -3.711307\n",
      "2   -1.144586\n",
      "3   -0.880700\n",
      "4    0.979358\n",
      "dtype: float64\n",
      "0    0.501989\n",
      "1   -3.711307\n",
      "2   -1.144586\n",
      "3   -0.880700\n",
      "4    0.979358\n",
      "dtype: float64\n",
      "0    0.250994\n",
      "1   -1.855653\n",
      "2   -0.572293\n",
      "3   -0.440350\n",
      "4    0.489679\n",
      "dtype: float64\n",
      "0    0.250994\n",
      "1   -1.855653\n",
      "2   -0.572293\n",
      "3   -0.440350\n",
      "dtype: float64\n",
      "0         NaN\n",
      "1   -3.711307\n",
      "2   -1.144586\n",
      "3   -0.880700\n",
      "4         NaN\n",
      "dtype: float64\n"
     ]
    }
   ],
   "source": [
    "#Functions cntd..\n",
    "\n",
    "print(s+s)\n",
    "\n",
    "print(s*2)\n",
    "\n",
    "print(s[1:] + s[:-1])"
   ]
  },
  {
   "cell_type": "code",
   "execution_count": null,
   "metadata": {},
   "outputs": [],
   "source": []
  }
 ],
 "metadata": {
  "kernelspec": {
   "display_name": "Python 3",
   "language": "python",
   "name": "python3"
  },
  "language_info": {
   "codemirror_mode": {
    "name": "ipython",
    "version": 3
   },
   "file_extension": ".py",
   "mimetype": "text/x-python",
   "name": "python",
   "nbconvert_exporter": "python",
   "pygments_lexer": "ipython3",
   "version": "3.7.4"
  }
 },
 "nbformat": 4,
 "nbformat_minor": 2
}
