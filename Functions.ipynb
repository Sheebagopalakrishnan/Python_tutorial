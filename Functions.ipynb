{
 "cells": [
  {
   "cell_type": "code",
   "execution_count": 5,
   "metadata": {},
   "outputs": [
    {
     "name": "stdout",
     "output_type": "stream",
     "text": [
      "Hey, How you doin ?\n",
      "Hey Sheeba, How you doin ?\n"
     ]
    }
   ],
   "source": [
    "#Syntax - called function : def function_name(): code block. Calling function : Function_name()\n",
    "#Must be indented\n",
    "\n",
    "def test_0():                                 #without param\n",
    "    print(\"Hey, How you doin ?\")\n",
    "    \n",
    "test_0()\n",
    "\n",
    "def test_1(name):                             #with param\n",
    "    print(\"Hey \"+ name + \", How you doin ?\")\n",
    "    \n",
    "test_1(\"Sheeba\")"
   ]
  },
  {
   "cell_type": "code",
   "execution_count": 13,
   "metadata": {},
   "outputs": [
    {
     "name": "stdout",
     "output_type": "stream",
     "text": [
      "None\n",
      "125\n",
      "125\n"
     ]
    }
   ],
   "source": [
    "#Using return\n",
    "\n",
    "def test_2(num):\n",
    "    num*num*num\n",
    "    \n",
    "print(test_2(5))\n",
    "\n",
    "def test_3(num):\n",
    "    print(num*num*num)\n",
    "    \n",
    "test_3(5)\n",
    "\n",
    "def test_4(num):\n",
    "    return num*num*num          #returns the result back to calling function\n",
    "    \n",
    "print(test_4(5))"
   ]
  },
  {
   "cell_type": "code",
   "execution_count": 25,
   "metadata": {},
   "outputs": [
    {
     "name": "stdout",
     "output_type": "stream",
     "text": [
      "vowel\n",
      "Max number is 5\n"
     ]
    }
   ],
   "source": [
    "#If..elif..else\n",
    "\n",
    "letter = 'a'\n",
    "if letter in \"aeiouAAEIOU\":      #instead of writing i==a or i==e\n",
    "    print(\"vowel\")\n",
    "else :\n",
    "    print(\"not vowel\")\n",
    "\n",
    "def max_n(n1,n2,n3):\n",
    "    if n1 > n2 and n1 > n3:\n",
    "        return (n1)\n",
    "    elif n2 > n1 and n2 > n3:\n",
    "        return (n2)\n",
    "    else:\n",
    "        return (n3)\n",
    "\n",
    "print(\"Max number is \" + str(max_n(2,5,3)))\n"
   ]
  },
  {
   "cell_type": "code",
   "execution_count": 25,
   "metadata": {},
   "outputs": [
    {
     "name": "stdout",
     "output_type": "stream",
     "text": [
      "0\n",
      "1\n",
      "2\n",
      "3\n",
      "4\n"
     ]
    }
   ],
   "source": [
    "#while\n",
    "\n",
    "def count(n):\n",
    "    i = 0\n",
    "    while i <= n and not (i > n):\n",
    "        print(i)\n",
    "        i += 1\n",
    "\n",
    "count(4)"
   ]
  },
  {
   "cell_type": "code",
   "execution_count": 26,
   "metadata": {},
   "outputs": [
    {
     "name": "stdout",
     "output_type": "stream",
     "text": [
      "S\n",
      "h\n",
      "e\n",
      "0\n",
      "1\n",
      "2\n",
      "4\n",
      "5\n",
      "6\n",
      "hello\n",
      "4\n",
      "hi\n",
      "hello\n",
      "4\n",
      "hi\n",
      "[1, 2, 3]\n",
      "[4, 5, 6]\n",
      "[7, 8, 9]\n",
      "[0]\n",
      "1\n",
      "2\n",
      "3\n",
      "4\n",
      "5\n",
      "6\n",
      "7\n",
      "8\n",
      "9\n",
      "0\n"
     ]
    }
   ],
   "source": [
    "#for loop\n",
    "\n",
    "for i in \"She\":\n",
    "    print(i)\n",
    "\n",
    "for i in range(3):\n",
    "    print(i)\n",
    "\n",
    "for i in range(4,7):          #prints the range from 4 to 6\n",
    "    print(i)\n",
    "    \n",
    "listt = [\"hello\",4,\"hi\"]\n",
    "for i in listt:\n",
    "    print(i)\n",
    "    \n",
    "for i in range(len(listt)):   #another way to print list\n",
    "    print(listt[i])\n",
    "\n",
    "#nested for loop\n",
    "\n",
    "grid = [\n",
    "    [1,2,3],\n",
    "    [4,5,6],\n",
    "    [7,8,9],\n",
    "    [0]\n",
    "]\n",
    "\n",
    "for row in grid :                   #print each row\n",
    "    print(row)\n",
    "\n",
    "for row in grid :                   #print each column\n",
    "    for col in row :\n",
    "        print(col)"
   ]
  },
  {
   "cell_type": "code",
   "execution_count": 23,
   "metadata": {},
   "outputs": [
    {
     "name": "stdout",
     "output_type": "stream",
     "text": [
      "dgg\n"
     ]
    }
   ],
   "source": [
    "def trans(word):                        #if vowel, replace to 'g'\n",
    "    result = ''\n",
    "    for letter in word :\n",
    "        if letter in \"aeiouAAEIOU\":\n",
    "            result = result + 'g'\n",
    "        else:\n",
    "            result = result + letter\n",
    "    return(result)\n",
    "            \n",
    "print(trans('dog'))\n",
    "            "
   ]
  },
  {
   "cell_type": "code",
   "execution_count": 4,
   "metadata": {},
   "outputs": [
    {
     "data": {
      "text/plain": [
       "9"
      ]
     },
     "execution_count": 4,
     "metadata": {},
     "output_type": "execute_result"
    }
   ],
   "source": [
    "#lambda function\n",
    "\n",
    "(lambda a,b: a+b) (4,5)               #lambda arguments: expression\n",
    "\n",
    "#no need to use the return statement\n",
    "#takes an argument, and returns a value but is not bound to any name or identifier"
   ]
  },
  {
   "cell_type": "code",
   "execution_count": null,
   "metadata": {},
   "outputs": [],
   "source": []
  }
 ],
 "metadata": {
  "kernelspec": {
   "display_name": "Python 3",
   "language": "python",
   "name": "python3"
  },
  "language_info": {
   "codemirror_mode": {
    "name": "ipython",
    "version": 3
   },
   "file_extension": ".py",
   "mimetype": "text/x-python",
   "name": "python",
   "nbconvert_exporter": "python",
   "pygments_lexer": "ipython3",
   "version": "3.7.4"
  }
 },
 "nbformat": 4,
 "nbformat_minor": 2
}
